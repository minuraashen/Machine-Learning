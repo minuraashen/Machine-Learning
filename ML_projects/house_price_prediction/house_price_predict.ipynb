{
 "cells": [
  {
   "cell_type": "markdown",
   "id": "ca9bbe0b",
   "metadata": {},
   "source": [
    "***Import dependencies***"
   ]
  },
  {
   "cell_type": "code",
   "execution_count": 15,
   "id": "4fb35980",
   "metadata": {},
   "outputs": [],
   "source": [
    "import numpy as np\n",
    "import pandas as pd\n",
    "import matplotlib.pyplot as plt\n",
    "import seaborn as sns\n",
    "import sklearn.datasets\n",
    "from sklearn.model_selection import train_test_split\n",
    "from xgboost import XGBRegressor\n",
    "from sklearn import metrics\n",
    "from sklearn.impute import SimpleImputer"
   ]
  },
  {
   "cell_type": "markdown",
   "id": "c9a92066",
   "metadata": {},
   "source": [
    "***Import the California House Price Dataset and Frame it in a Pandas DataFrame***"
   ]
  },
  {
   "cell_type": "code",
   "execution_count": 16,
   "id": "d4ad36cb",
   "metadata": {},
   "outputs": [],
   "source": [
    "house_price_dataset = pd.read_csv('california_house.csv')"
   ]
  },
  {
   "cell_type": "code",
   "execution_count": 17,
   "id": "301e06f8",
   "metadata": {},
   "outputs": [
    {
     "data": {
      "text/plain": [
       "(20640, 10)"
      ]
     },
     "execution_count": 17,
     "metadata": {},
     "output_type": "execute_result"
    }
   ],
   "source": [
    "#Checking the number of rows and columns in the dataset\n",
    "house_price_dataset.shape"
   ]
  },
  {
   "cell_type": "markdown",
   "id": "1e6c8ec6",
   "metadata": {},
   "source": [
    "***Check whether are there any missing values***"
   ]
  },
  {
   "cell_type": "code",
   "execution_count": 18,
   "id": "6aa7c66b",
   "metadata": {},
   "outputs": [
    {
     "data": {
      "text/plain": [
       "longitude               0\n",
       "latitude                0\n",
       "housing_median_age      0\n",
       "total_rooms             0\n",
       "total_bedrooms        207\n",
       "population              0\n",
       "households              0\n",
       "median_income           0\n",
       "ocean_proximity         0\n",
       "median_house_value      0\n",
       "dtype: int64"
      ]
     },
     "execution_count": 18,
     "metadata": {},
     "output_type": "execute_result"
    }
   ],
   "source": [
    "house_price_dataset.isnull().sum()"
   ]
  },
  {
   "cell_type": "markdown",
   "id": "6655e403",
   "metadata": {},
   "source": [
    "***Statistical measures of dataset***"
   ]
  },
  {
   "cell_type": "code",
   "execution_count": 19,
   "id": "4a8f470f",
   "metadata": {},
   "outputs": [
    {
     "data": {
      "text/html": [
       "<div>\n",
       "<style scoped>\n",
       "    .dataframe tbody tr th:only-of-type {\n",
       "        vertical-align: middle;\n",
       "    }\n",
       "\n",
       "    .dataframe tbody tr th {\n",
       "        vertical-align: top;\n",
       "    }\n",
       "\n",
       "    .dataframe thead th {\n",
       "        text-align: right;\n",
       "    }\n",
       "</style>\n",
       "<table border=\"1\" class=\"dataframe\">\n",
       "  <thead>\n",
       "    <tr style=\"text-align: right;\">\n",
       "      <th></th>\n",
       "      <th>longitude</th>\n",
       "      <th>latitude</th>\n",
       "      <th>housing_median_age</th>\n",
       "      <th>total_rooms</th>\n",
       "      <th>total_bedrooms</th>\n",
       "      <th>population</th>\n",
       "      <th>households</th>\n",
       "      <th>median_income</th>\n",
       "      <th>median_house_value</th>\n",
       "    </tr>\n",
       "  </thead>\n",
       "  <tbody>\n",
       "    <tr>\n",
       "      <th>count</th>\n",
       "      <td>20640.000000</td>\n",
       "      <td>20640.000000</td>\n",
       "      <td>20640.000000</td>\n",
       "      <td>20640.000000</td>\n",
       "      <td>20433.000000</td>\n",
       "      <td>20640.000000</td>\n",
       "      <td>20640.000000</td>\n",
       "      <td>20640.000000</td>\n",
       "      <td>20640.000000</td>\n",
       "    </tr>\n",
       "    <tr>\n",
       "      <th>mean</th>\n",
       "      <td>-119.569704</td>\n",
       "      <td>35.631861</td>\n",
       "      <td>28.639486</td>\n",
       "      <td>2635.763081</td>\n",
       "      <td>537.870553</td>\n",
       "      <td>1425.476744</td>\n",
       "      <td>499.539680</td>\n",
       "      <td>3.870671</td>\n",
       "      <td>206855.816909</td>\n",
       "    </tr>\n",
       "    <tr>\n",
       "      <th>std</th>\n",
       "      <td>2.003532</td>\n",
       "      <td>2.135952</td>\n",
       "      <td>12.585558</td>\n",
       "      <td>2181.615252</td>\n",
       "      <td>421.385070</td>\n",
       "      <td>1132.462122</td>\n",
       "      <td>382.329753</td>\n",
       "      <td>1.899822</td>\n",
       "      <td>115395.615874</td>\n",
       "    </tr>\n",
       "    <tr>\n",
       "      <th>min</th>\n",
       "      <td>-124.350000</td>\n",
       "      <td>32.540000</td>\n",
       "      <td>1.000000</td>\n",
       "      <td>2.000000</td>\n",
       "      <td>1.000000</td>\n",
       "      <td>3.000000</td>\n",
       "      <td>1.000000</td>\n",
       "      <td>0.499900</td>\n",
       "      <td>14999.000000</td>\n",
       "    </tr>\n",
       "    <tr>\n",
       "      <th>25%</th>\n",
       "      <td>-121.800000</td>\n",
       "      <td>33.930000</td>\n",
       "      <td>18.000000</td>\n",
       "      <td>1447.750000</td>\n",
       "      <td>296.000000</td>\n",
       "      <td>787.000000</td>\n",
       "      <td>280.000000</td>\n",
       "      <td>2.563400</td>\n",
       "      <td>119600.000000</td>\n",
       "    </tr>\n",
       "    <tr>\n",
       "      <th>50%</th>\n",
       "      <td>-118.490000</td>\n",
       "      <td>34.260000</td>\n",
       "      <td>29.000000</td>\n",
       "      <td>2127.000000</td>\n",
       "      <td>435.000000</td>\n",
       "      <td>1166.000000</td>\n",
       "      <td>409.000000</td>\n",
       "      <td>3.534800</td>\n",
       "      <td>179700.000000</td>\n",
       "    </tr>\n",
       "    <tr>\n",
       "      <th>75%</th>\n",
       "      <td>-118.010000</td>\n",
       "      <td>37.710000</td>\n",
       "      <td>37.000000</td>\n",
       "      <td>3148.000000</td>\n",
       "      <td>647.000000</td>\n",
       "      <td>1725.000000</td>\n",
       "      <td>605.000000</td>\n",
       "      <td>4.743250</td>\n",
       "      <td>264725.000000</td>\n",
       "    </tr>\n",
       "    <tr>\n",
       "      <th>max</th>\n",
       "      <td>-114.310000</td>\n",
       "      <td>41.950000</td>\n",
       "      <td>52.000000</td>\n",
       "      <td>39320.000000</td>\n",
       "      <td>6445.000000</td>\n",
       "      <td>35682.000000</td>\n",
       "      <td>6082.000000</td>\n",
       "      <td>15.000100</td>\n",
       "      <td>500001.000000</td>\n",
       "    </tr>\n",
       "  </tbody>\n",
       "</table>\n",
       "</div>"
      ],
      "text/plain": [
       "          longitude      latitude  ...  median_income  median_house_value\n",
       "count  20640.000000  20640.000000  ...   20640.000000        20640.000000\n",
       "mean    -119.569704     35.631861  ...       3.870671       206855.816909\n",
       "std        2.003532      2.135952  ...       1.899822       115395.615874\n",
       "min     -124.350000     32.540000  ...       0.499900        14999.000000\n",
       "25%     -121.800000     33.930000  ...       2.563400       119600.000000\n",
       "50%     -118.490000     34.260000  ...       3.534800       179700.000000\n",
       "75%     -118.010000     37.710000  ...       4.743250       264725.000000\n",
       "max     -114.310000     41.950000  ...      15.000100       500001.000000\n",
       "\n",
       "[8 rows x 9 columns]"
      ]
     },
     "execution_count": 19,
     "metadata": {},
     "output_type": "execute_result"
    }
   ],
   "source": [
    "house_price_dataset.describe()"
   ]
  },
  {
   "cell_type": "markdown",
   "id": "31247cc9",
   "metadata": {},
   "source": [
    "***Compute the scewness of data in total bedrooms column***"
   ]
  },
  {
   "cell_type": "code",
   "execution_count": 25,
   "id": "bc618b8a",
   "metadata": {},
   "outputs": [
    {
     "name": "stdout",
     "output_type": "stream",
     "text": [
      "skewness of total bedrooms is: 3.459546331523342\n"
     ]
    }
   ],
   "source": [
    "skewness = house_price_dataset['total_bedrooms'].skew()\n",
    "print('skewness of total bedrooms is:', skewness)"
   ]
  },
  {
   "cell_type": "markdown",
   "id": "0cdc9d32",
   "metadata": {},
   "source": [
    "***Fill the null values by replacing the median***"
   ]
  },
  {
   "cell_type": "code",
   "execution_count": 30,
   "id": "9c0c8e3a",
   "metadata": {},
   "outputs": [],
   "source": [
    "imputer = SimpleImputer(strategy='median')\n",
    "# Filling the missing values with the median\n",
    "house_price_dataset[['total_bedrooms']] = imputer.fit_transform(house_price_dataset[['total_bedrooms']])"
   ]
  },
  {
   "cell_type": "markdown",
   "id": "dd0334ef",
   "metadata": {},
   "source": [
    "***Recheck the missing elements of data***"
   ]
  },
  {
   "cell_type": "code",
   "execution_count": 31,
   "id": "14119ae6",
   "metadata": {},
   "outputs": [
    {
     "data": {
      "text/plain": [
       "longitude             0\n",
       "latitude              0\n",
       "housing_median_age    0\n",
       "total_rooms           0\n",
       "total_bedrooms        0\n",
       "population            0\n",
       "households            0\n",
       "median_income         0\n",
       "ocean_proximity       0\n",
       "median_house_value    0\n",
       "dtype: int64"
      ]
     },
     "execution_count": 31,
     "metadata": {},
     "output_type": "execute_result"
    }
   ],
   "source": [
    "house_price_dataset.isnull().sum()"
   ]
  }
 ],
 "metadata": {
  "kernelspec": {
   "display_name": ".venv (3.13.2)",
   "language": "python",
   "name": "python3"
  },
  "language_info": {
   "codemirror_mode": {
    "name": "ipython",
    "version": 3
   },
   "file_extension": ".py",
   "mimetype": "text/x-python",
   "name": "python",
   "nbconvert_exporter": "python",
   "pygments_lexer": "ipython3",
   "version": "3.13.2"
  }
 },
 "nbformat": 4,
 "nbformat_minor": 5
}
